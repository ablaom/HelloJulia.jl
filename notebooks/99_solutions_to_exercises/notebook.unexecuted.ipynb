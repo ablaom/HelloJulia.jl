{
 "cells": [
  {
   "cell_type": "markdown",
   "source": [
    "# Solutions to exercises"
   ],
   "metadata": {}
  },
  {
   "cell_type": "markdown",
   "source": [
    "## Setup"
   ],
   "metadata": {}
  },
  {
   "cell_type": "markdown",
   "source": [
    "The following instantiates a package environment."
   ],
   "metadata": {}
  },
  {
   "outputs": [],
   "cell_type": "code",
   "source": [
    "using Pkg\n",
    "Pkg.activate(joinpath(@__DIR__, \"..\", \"..\"))\n",
    "Pkg.instantiate()"
   ],
   "metadata": {},
   "execution_count": null
  },
  {
   "cell_type": "markdown",
   "source": [
    "## Exercise 1"
   ],
   "metadata": {}
  },
  {
   "cell_type": "markdown",
   "source": [
    "Write a function named `total` that adds the elements of its vector input."
   ],
   "metadata": {}
  },
  {
   "cell_type": "markdown",
   "source": [
    "### Solution"
   ],
   "metadata": {}
  },
  {
   "outputs": [],
   "cell_type": "code",
   "source": [
    "function total(v)\n",
    "    sum = 0.0 # better is zero(v)\n",
    "    for i in 1:length(v)\n",
    "        sum = sum + v[i]\n",
    "    end\n",
    "    return sum\n",
    "end"
   ],
   "metadata": {},
   "execution_count": null
  },
  {
   "outputs": [],
   "cell_type": "code",
   "source": [
    "total(1:10)"
   ],
   "metadata": {},
   "execution_count": null
  },
  {
   "cell_type": "markdown",
   "source": [
    "The built-in function is called `sum`."
   ],
   "metadata": {}
  },
  {
   "cell_type": "markdown",
   "source": [
    "## Exercise 2"
   ],
   "metadata": {}
  },
  {
   "cell_type": "markdown",
   "source": [
    "Generate a 1000 random samples from the standard normal\n",
    "distribution. Create a second such sample, and add the two samples\n",
    "point-wise.  Compute the (sample) mean and variance of the combined\n",
    "samples. In the same plot, show a frequency-normalized histogram of\n",
    "the combined samples and a plot of the pdf for normal distribution\n",
    "with zero mean and variance `2`."
   ],
   "metadata": {}
  },
  {
   "cell_type": "markdown",
   "source": [
    "### Solution"
   ],
   "metadata": {}
  },
  {
   "outputs": [],
   "cell_type": "code",
   "source": [
    "using Distributions, Statistics\n",
    "\n",
    "samples1 = randn(1000); # or rand(Normal(), 1000)\n",
    "samples2 = randn(1000);\n",
    "\n",
    "samples = samples1 .+ samples2;\n",
    "\n",
    "mu = mean(samples)\n",
    "var = std(samples)^2\n",
    "\n",
    "@show mu var"
   ],
   "metadata": {},
   "execution_count": null
  },
  {
   "outputs": [],
   "cell_type": "code",
   "source": [
    "d = Normal(0, sqrt(2))\n",
    "f(x) = pdf(d, x)\n",
    "\n",
    "xs = -5:(0.1):5\n",
    "ys = f.(xs);\n",
    "\n",
    "using CairoMakie\n",
    "CairoMakie.activate!(type = \"svg\")\n",
    "\n",
    "fig = hist(samples, normalization=:pdf)\n",
    "lines!(xs, ys)\n",
    "current_figure()"
   ],
   "metadata": {},
   "execution_count": null
  },
  {
   "cell_type": "markdown",
   "source": [
    "## Exercise 3"
   ],
   "metadata": {}
  },
  {
   "cell_type": "markdown",
   "source": [
    "The following shows that named tuples share some behaviour with dictionaries:"
   ],
   "metadata": {}
  },
  {
   "outputs": [],
   "cell_type": "code",
   "source": [
    "t = (x = 1, y = \"cat\", z = 4.5)\n",
    "keys(t)"
   ],
   "metadata": {},
   "execution_count": null
  },
  {
   "outputs": [],
   "cell_type": "code",
   "source": [
    "t[:y]"
   ],
   "metadata": {},
   "execution_count": null
  },
  {
   "cell_type": "markdown",
   "source": [
    "Write a function called `dict` that converts a named tuple to an\n",
    "actual dictionary. You can create an empty dictionary using `Dict()`."
   ],
   "metadata": {}
  },
  {
   "cell_type": "markdown",
   "source": [
    "### Solution"
   ],
   "metadata": {}
  },
  {
   "outputs": [],
   "cell_type": "code",
   "source": [
    "function dict(t)\n",
    "    d = Dict()\n",
    "    for k in keys(t)\n",
    "        d[k] = t[k]\n",
    "    end\n",
    "    return d\n",
    "end"
   ],
   "metadata": {},
   "execution_count": null
  },
  {
   "outputs": [],
   "cell_type": "code",
   "source": [
    "dict(t)"
   ],
   "metadata": {},
   "execution_count": null
  },
  {
   "cell_type": "markdown",
   "source": [
    "A slicker way to do the same thing is:"
   ],
   "metadata": {}
  },
  {
   "outputs": [],
   "cell_type": "code",
   "source": [
    "dict2(t) = Dict(k => t[k] for k in keys(t))"
   ],
   "metadata": {},
   "execution_count": null
  },
  {
   "cell_type": "markdown",
   "source": [
    "---\n",
    "\n",
    "*This notebook was generated using [Literate.jl](https://github.com/fredrikekre/Literate.jl).*"
   ],
   "metadata": {}
  }
 ],
 "nbformat_minor": 3,
 "metadata": {
  "language_info": {
   "file_extension": ".jl",
   "mimetype": "application/julia",
   "name": "julia",
   "version": "1.9.0"
  },
  "kernelspec": {
   "name": "julia-1.9",
   "display_name": "Julia 1.9.0",
   "language": "julia"
  }
 },
 "nbformat": 4
}

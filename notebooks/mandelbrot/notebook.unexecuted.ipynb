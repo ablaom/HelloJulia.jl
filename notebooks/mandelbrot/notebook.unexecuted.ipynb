{
 "cells": [
  {
   "cell_type": "markdown",
   "source": [
    "# Fractals using Julia"
   ],
   "metadata": {}
  },
  {
   "cell_type": "markdown",
   "source": [
    "Notebook from [HelloJulia.jl](https://github.com/ablaom/HelloJulia.jl)"
   ],
   "metadata": {}
  },
  {
   "cell_type": "markdown",
   "source": [
    "Instantiate package environment:"
   ],
   "metadata": {}
  },
  {
   "outputs": [],
   "cell_type": "code",
   "source": [
    "using Pkg\n",
    "Pkg.activate(joinpath(@__DIR__, \"..\", \"..\"))\n",
    "Pkg.instantiate()"
   ],
   "metadata": {},
   "execution_count": null
  },
  {
   "cell_type": "markdown",
   "source": [
    "Load plotting package and set in-line display type:"
   ],
   "metadata": {}
  },
  {
   "outputs": [],
   "cell_type": "code",
   "source": [
    "using CairoMakie\n",
    "CairoMakie.activate!(type = \"png\")"
   ],
   "metadata": {},
   "execution_count": null
  },
  {
   "cell_type": "markdown",
   "source": [
    "To plot the famous Mandelbrot set, we need to apply the following function millions of\n",
    "times:"
   ],
   "metadata": {}
  },
  {
   "outputs": [],
   "cell_type": "code",
   "source": [
    "function mandelbrot(z)\n",
    "    c = z     # starting value and constant shift\n",
    "    max_iterations = 20\n",
    "    for n = 1:max_iterations\n",
    "        if abs(z) > 2\n",
    "            return n-1\n",
    "        end\n",
    "        z = z^2 + c\n",
    "    end\n",
    "    return max_iterations\n",
    "end"
   ],
   "metadata": {},
   "execution_count": null
  },
  {
   "cell_type": "markdown",
   "source": [
    "Let's see how long it takes to apply it just once:"
   ],
   "metadata": {}
  },
  {
   "outputs": [],
   "cell_type": "code",
   "source": [
    "@time @eval mandelbrot(0.5)"
   ],
   "metadata": {},
   "execution_count": null
  },
  {
   "cell_type": "markdown",
   "source": [
    "Slow!! Why? Because Julia is a *compiled* language and does not\n",
    "compile new code until it knows the type of arguments you want to\n",
    "use. (The use of the macro `@eval` helps us to include this\n",
    "compilation time in the total measurement, since `@time` is designed\n",
    "to cleverly exclude it in recent Julia versions.)"
   ],
   "metadata": {}
  },
  {
   "cell_type": "markdown",
   "source": [
    "Let's try again *with the same type* of argument:"
   ],
   "metadata": {}
  },
  {
   "outputs": [],
   "cell_type": "code",
   "source": [
    "@time @eval mandelbrot(0.6)"
   ],
   "metadata": {},
   "execution_count": null
  },
  {
   "cell_type": "markdown",
   "source": [
    "Fast!!! Why? Because Julia caches the compiled code and the types\n",
    "are the same."
   ],
   "metadata": {}
  },
  {
   "cell_type": "markdown",
   "source": [
    "If we call with a new argument type (complex instead of float) we'll incur a compilation\n",
    "delay once more:"
   ],
   "metadata": {}
  },
  {
   "outputs": [],
   "cell_type": "code",
   "source": [
    "@time @eval mandelbrot(0.6 + im*0.1)"
   ],
   "metadata": {},
   "execution_count": null
  },
  {
   "outputs": [],
   "cell_type": "code",
   "source": [
    "xs = -2.5:0.01:0.75\n",
    "ys = -1.5:0.01:1.5\n",
    "\n",
    "fig = heatmap(xs, ys, (x, y) -> mandelbrot(x + im*y),\n",
    "        colormap = Reverse(:deep))"
   ],
   "metadata": {},
   "execution_count": null
  },
  {
   "outputs": [],
   "cell_type": "code",
   "source": [
    "save(\"mandelbrot.png\", fig);"
   ],
   "metadata": {},
   "execution_count": null
  },
  {
   "cell_type": "markdown",
   "source": [
    "![](mandelbrot.png)"
   ],
   "metadata": {}
  },
  {
   "cell_type": "markdown",
   "source": [
    "---\n",
    "\n",
    "*This notebook was generated using [Literate.jl](https://github.com/fredrikekre/Literate.jl).*"
   ],
   "metadata": {}
  }
 ],
 "nbformat_minor": 3,
 "metadata": {
  "language_info": {
   "file_extension": ".jl",
   "mimetype": "application/julia",
   "name": "julia",
   "version": "1.9.0"
  },
  "kernelspec": {
   "name": "julia-1.9",
   "display_name": "Julia 1.9.0",
   "language": "julia"
  }
 },
 "nbformat": 4
}

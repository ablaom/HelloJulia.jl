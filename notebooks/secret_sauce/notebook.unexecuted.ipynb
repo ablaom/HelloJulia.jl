{
 "cells": [
  {
   "cell_type": "markdown",
   "source": [
    "# Brief sketch of Julia's secret sauce"
   ],
   "metadata": {}
  },
  {
   "cell_type": "markdown",
   "source": [
    "Notebook from [HelloJulia.jl](https://github.com/ablaom/HelloJulia.jl)"
   ],
   "metadata": {}
  },
  {
   "cell_type": "markdown",
   "source": [
    "Julia's *secret sauce:*"
   ],
   "metadata": {}
  },
  {
   "cell_type": "markdown",
   "source": [
    "- **Just-in-time compilation**\n",
    "- **Multiple dispatch**\n",
    "- **Abstract types**"
   ],
   "metadata": {}
  },
  {
   "cell_type": "markdown",
   "source": [
    "If your just copying code into Julia's REPL, then you can ignore the\n",
    "next line:"
   ],
   "metadata": {}
  },
  {
   "outputs": [],
   "cell_type": "code",
   "source": [
    "using InteractiveUtils"
   ],
   "metadata": {},
   "execution_count": null
  },
  {
   "cell_type": "markdown",
   "source": [
    "## Just-in-time compilation"
   ],
   "metadata": {}
  },
  {
   "cell_type": "markdown",
   "source": [
    "Here's how we define a new function in Julia:"
   ],
   "metadata": {}
  },
  {
   "outputs": [],
   "cell_type": "code",
   "source": [
    "add(x, y) = x + y"
   ],
   "metadata": {},
   "execution_count": null
  },
  {
   "cell_type": "markdown",
   "source": [
    "Let's see how long it takes to add two numbers:"
   ],
   "metadata": {}
  },
  {
   "outputs": [],
   "cell_type": "code",
   "source": [
    "@time @eval add(3, 5)"
   ],
   "metadata": {},
   "execution_count": null
  },
  {
   "cell_type": "markdown",
   "source": [
    "Slow!! Why? Because Julia is a *compiled* language and does not\n",
    "compile new code until it knows the type of arguments you want to\n",
    "use. (The use of the macro `@eval` helps us to include this\n",
    "compilation time in the total measurement, since `@time` is designed\n",
    "to cleverly exclude it in recent Julia versions.)"
   ],
   "metadata": {}
  },
  {
   "cell_type": "markdown",
   "source": [
    "Let's try again *with the same type* of argument:"
   ],
   "metadata": {}
  },
  {
   "outputs": [],
   "cell_type": "code",
   "source": [
    "@time @eval add(4, 7)"
   ],
   "metadata": {},
   "execution_count": null
  },
  {
   "cell_type": "markdown",
   "source": [
    "Fast!!! Why? Because Julia caches the compiled code and the types\n",
    "are the same. We can even inpsect an annotated version of this\n",
    "compiled code:"
   ],
   "metadata": {}
  },
  {
   "outputs": [],
   "cell_type": "code",
   "source": [
    "@code_llvm add(4, 7)"
   ],
   "metadata": {},
   "execution_count": null
  },
  {
   "cell_type": "markdown",
   "source": [
    "This code is indistinguishable from analogous C code (if using the `clang` compiler)."
   ],
   "metadata": {}
  },
  {
   "cell_type": "markdown",
   "source": [
    "Let's try vectors:"
   ],
   "metadata": {}
  },
  {
   "outputs": [],
   "cell_type": "code",
   "source": [
    "x = rand(3)\n",
    "y = rand(3)"
   ],
   "metadata": {},
   "execution_count": null
  },
  {
   "outputs": [],
   "cell_type": "code",
   "source": [
    "@time @eval add(x, y)"
   ],
   "metadata": {},
   "execution_count": null
  },
  {
   "cell_type": "markdown",
   "source": [
    "Slow :-("
   ],
   "metadata": {}
  },
  {
   "outputs": [],
   "cell_type": "code",
   "source": [
    "@time @eval add(y, x)"
   ],
   "metadata": {},
   "execution_count": null
  },
  {
   "cell_type": "markdown",
   "source": [
    "Fast :-)."
   ],
   "metadata": {}
  },
  {
   "cell_type": "markdown",
   "source": [
    "Just-in-time compilation exists in other languages (eg, Java)."
   ],
   "metadata": {}
  },
  {
   "cell_type": "markdown",
   "source": [
    "## Multiple dispatch"
   ],
   "metadata": {}
  },
  {
   "outputs": [],
   "cell_type": "code",
   "source": [
    "A = [1 2; 3 4]"
   ],
   "metadata": {},
   "execution_count": null
  },
  {
   "outputs": [],
   "cell_type": "code",
   "source": [
    "typeof(A)"
   ],
   "metadata": {},
   "execution_count": null
  },
  {
   "cell_type": "markdown",
   "source": [
    "Julia doesn't know how to apply `+` to a scalar and a\n",
    "matrix. Uncomment the following line (by removing the \"#\" symbol) to\n",
    "see the error thrown:"
   ],
   "metadata": {}
  },
  {
   "outputs": [],
   "cell_type": "code",
   "source": [
    "# add(4, A)"
   ],
   "metadata": {},
   "execution_count": null
  },
  {
   "cell_type": "markdown",
   "source": [
    "So we add a more specialized version of our function (called a\n",
    "*method*) to handle this case:"
   ],
   "metadata": {}
  },
  {
   "outputs": [],
   "cell_type": "code",
   "source": [
    "add(x::Int64, y::Matrix{Int64}) = x .+ y"
   ],
   "metadata": {},
   "execution_count": null
  },
  {
   "cell_type": "markdown",
   "source": [
    "Here we are using the built-in broadcasted version of `+` which adds\n",
    "the scalar `x` to each element of `y`. Now this works:"
   ],
   "metadata": {}
  },
  {
   "outputs": [],
   "cell_type": "code",
   "source": [
    "add(4, A)"
   ],
   "metadata": {},
   "execution_count": null
  },
  {
   "cell_type": "markdown",
   "source": [
    "This is essentially what multiple dispatch is about. We use *all*\n",
    "the arguments of a function to determine what specific method to\n",
    "call. In a traditional object oriented language methods are owned by\n",
    "objects (data structures) and we see syntax like `x.add(y)` which is\n",
    "*single* dispatch on `x`."
   ],
   "metadata": {}
  },
  {
   "cell_type": "markdown",
   "source": [
    "Multiple dispatch is not used in any widely used languages. Dylan is\n",
    "the most well-known example."
   ],
   "metadata": {}
  },
  {
   "cell_type": "markdown",
   "source": [
    "If you are coming from a traditional object oriented language like\n",
    "Python, then you're used to thinking of objects \"owning\" methods. In\n",
    "Julia *functions*, not objects, own *methods*:"
   ],
   "metadata": {}
  },
  {
   "outputs": [],
   "cell_type": "code",
   "source": [
    "methods(add)"
   ],
   "metadata": {},
   "execution_count": null
  },
  {
   "cell_type": "markdown",
   "source": [
    "Or, stated differently, there is less conflation of *structure* and\n",
    "*behaviour* in Julia!"
   ],
   "metadata": {}
  },
  {
   "cell_type": "markdown",
   "source": [
    "But, we're not out of the woods yet. Uncomment to see a new error\n",
    "thrown:"
   ],
   "metadata": {}
  },
  {
   "outputs": [],
   "cell_type": "code",
   "source": [
    "# add(4.0, A)"
   ],
   "metadata": {},
   "execution_count": null
  },
  {
   "cell_type": "markdown",
   "source": [
    "Oh dear. Do we need to write a special method for every kind of\n",
    "scalar and matrix???!"
   ],
   "metadata": {}
  },
  {
   "cell_type": "markdown",
   "source": [
    "No, because abstract types come to the rescue..."
   ],
   "metadata": {}
  },
  {
   "cell_type": "markdown",
   "source": [
    "## Abstract types"
   ],
   "metadata": {}
  },
  {
   "cell_type": "markdown",
   "source": [
    "Everything in Julia has a type:"
   ],
   "metadata": {}
  },
  {
   "outputs": [],
   "cell_type": "code",
   "source": [
    "typeof(1 + 2im)"
   ],
   "metadata": {},
   "execution_count": null
  },
  {
   "outputs": [],
   "cell_type": "code",
   "source": [
    "typeof(rand(2,3))"
   ],
   "metadata": {},
   "execution_count": null
  },
  {
   "cell_type": "markdown",
   "source": [
    "These are examples of *concrete* types. But concrete types have\n",
    "*supertypes*, which are *abstract*:"
   ],
   "metadata": {}
  },
  {
   "outputs": [],
   "cell_type": "code",
   "source": [
    "supertype(Int64)"
   ],
   "metadata": {},
   "execution_count": null
  },
  {
   "outputs": [],
   "cell_type": "code",
   "source": [
    "supertype(Signed)"
   ],
   "metadata": {},
   "execution_count": null
  },
  {
   "outputs": [],
   "cell_type": "code",
   "source": [
    "supertype(Integer)"
   ],
   "metadata": {},
   "execution_count": null
  },
  {
   "cell_type": "markdown",
   "source": [
    "And we can travel in the other direction:"
   ],
   "metadata": {}
  },
  {
   "outputs": [],
   "cell_type": "code",
   "source": [
    "subtypes(Real)"
   ],
   "metadata": {},
   "execution_count": null
  },
  {
   "outputs": [],
   "cell_type": "code",
   "source": [
    "4 isa Real"
   ],
   "metadata": {},
   "execution_count": null
  },
  {
   "outputs": [],
   "cell_type": "code",
   "source": [
    "Bool <: Integer"
   ],
   "metadata": {},
   "execution_count": null
  },
  {
   "outputs": [],
   "cell_type": "code",
   "source": [
    "String <: Integer"
   ],
   "metadata": {},
   "execution_count": null
  },
  {
   "cell_type": "markdown",
   "source": [
    "Now we can solve our problem: How to extend our `add` function to\n",
    "arbitrary scalars and matrices:"
   ],
   "metadata": {}
  },
  {
   "outputs": [],
   "cell_type": "code",
   "source": [
    "add(x::Real, y::Matrix) = x .+ y"
   ],
   "metadata": {},
   "execution_count": null
  },
  {
   "outputs": [],
   "cell_type": "code",
   "source": [
    "add(4.0, rand(Bool, 2, 3))"
   ],
   "metadata": {},
   "execution_count": null
  },
  {
   "cell_type": "markdown",
   "source": [
    "Note that abstract types have no instances. The only \"information\"\n",
    "in an abstract type is what its supertype and subtypes\n",
    "are. Collectively, abstract types and concrete types constitute a\n",
    "tree structure, with the concrete types as leaves. This structure\n",
    "exists to *organize* the concrete types in a way that facilitates\n",
    "extension of functionality. This tree is not static, but can be\n",
    "extended by the programmer."
   ],
   "metadata": {}
  },
  {
   "cell_type": "markdown",
   "source": [
    "---\n",
    "\n",
    "*This notebook was generated using [Literate.jl](https://github.com/fredrikekre/Literate.jl).*"
   ],
   "metadata": {}
  }
 ],
 "nbformat_minor": 3,
 "metadata": {
  "language_info": {
   "file_extension": ".jl",
   "mimetype": "application/julia",
   "name": "julia",
   "version": "1.9.0"
  },
  "kernelspec": {
   "name": "julia-1.9",
   "display_name": "Julia 1.9.0",
   "language": "julia"
  }
 },
 "nbformat": 4
}
